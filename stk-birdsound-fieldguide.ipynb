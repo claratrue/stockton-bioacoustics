{
 "cells": [
  {
   "cell_type": "markdown",
   "metadata": {},
   "source": [
    "## Birdsound Fieldguide for Stockton"
   ]
  },
  {
   "cell_type": "code",
   "execution_count": null,
   "metadata": {},
   "outputs": [],
   "source": [
    "# Query Xeno-Canto for recordings of a specific bird species\n",
    "# Filter recordings by type (call or song)\n",
    "# Download and save them in downloads/{species}/{type}/ directories"
   ]
  },
  {
   "cell_type": "code",
   "execution_count": 2,
   "metadata": {},
   "outputs": [
    {
     "name": "stdout",
     "output_type": "stream",
     "text": [
      "Downloading and converting call from Rancho San Rafael Regional Park (near  Reno), Washoe County, Nevada: download.mp3\n",
      "Downloading and converting song from Nome, Nome Census Area, Alaska: download.mp3\n",
      "Failed to fetch data on page 3\n"
     ]
    }
   ],
   "source": [
    "import requests\n",
    "import os\n",
    "from pydub import AudioSegment\n",
    "\n",
    "WESTERN_LOCATIONS = [\n",
    "    \"California\", \"Oregon\", \"Washington\", \"Nevada\", \"Arizona\",\n",
    "    \"Utah\", \"New Mexico\", \"Colorado\", \"Idaho\", \"Montana\",\n",
    "    \"Wyoming\", \"Alaska\"\n",
    "]\n",
    "\n",
    "def fetch_and_save_recordings(bird_name, base_dir=\"/path/to/output/folder\", limit=30):\n",
    "    query_url = f\"https://xeno-canto.org/api/2/recordings?query={bird_name.replace(' ', '+')}\"\n",
    "    downloaded = 0\n",
    "    page = 1\n",
    "\n",
    "    while downloaded < limit:\n",
    "        response = requests.get(f\"{query_url}&page={page}\")\n",
    "        if response.status_code != 200:\n",
    "            print(f\"Failed to fetch data on page {page}\")\n",
    "            break\n",
    "\n",
    "        data = response.json()\n",
    "        recordings = data.get(\"recordings\", [])\n",
    "        if not recordings:\n",
    "            break\n",
    "\n",
    "        for rec in recordings:\n",
    "            if downloaded >= limit:\n",
    "                break\n",
    "\n",
    "            file_type = rec.get(\"type\", \"\").lower()\n",
    "            if file_type not in [\"call\", \"song\"]:\n",
    "                continue\n",
    "\n",
    "            location = rec.get(\"loc\", \"\")\n",
    "            if not any(loc in location for loc in WESTERN_LOCATIONS):\n",
    "                continue\n",
    "\n",
    "            file_url = rec['file'] if rec['file'].startswith(\"http\") else f\"https:{rec['file']}\"\n",
    "            file_name = file_url.split(\"/\")[-1].replace(\".mp3\", \"\")\n",
    "            \n",
    "            species_dir = os.path.join(base_dir, bird_name.replace(\" \", \"_\"))\n",
    "            type_dir = os.path.join(species_dir, file_type)\n",
    "            os.makedirs(type_dir, exist_ok=True)\n",
    "\n",
    "            wav_path = os.path.join(type_dir, f\"{file_name}.wav\")\n",
    "            if os.path.exists(wav_path):\n",
    "                continue  # Skip if already converted\n",
    "\n",
    "            # Download MP3 to temp path\n",
    "            temp_mp3_path = os.path.join(type_dir, f\"{file_name}.mp3\")\n",
    "            print(f\"Downloading and converting {file_type} from {location}: {file_name}.mp3\")\n",
    "\n",
    "            audio_data = requests.get(file_url)\n",
    "            if audio_data.status_code == 200:\n",
    "                with open(temp_mp3_path, \"wb\") as f:\n",
    "                    f.write(audio_data.content)\n",
    "\n",
    "                # Convert to WAV\n",
    "                try:\n",
    "                    sound = AudioSegment.from_mp3(temp_mp3_path)\n",
    "                    sound.export(wav_path, format=\"wav\")\n",
    "                    os.remove(temp_mp3_path)  # Clean up .mp3\n",
    "                    downloaded += 1\n",
    "                except Exception as e:\n",
    "                    print(f\"Conversion failed for {file_name}: {e}\")\n",
    "                    os.remove(temp_mp3_path)\n",
    "            else:\n",
    "                print(f\"Failed to download: {file_url}\")\n",
    "\n",
    "        page += 1\n",
    "\n",
    "# Example usage\n",
    "fetch_and_save_recordings(\"Turdus migratorius\")  # American robin"
   ]
  }
 ],
 "metadata": {
  "kernelspec": {
   "display_name": "stk_project_venv",
   "language": "python",
   "name": "python3"
  },
  "language_info": {
   "codemirror_mode": {
    "name": "ipython",
    "version": 3
   },
   "file_extension": ".py",
   "mimetype": "text/x-python",
   "name": "python",
   "nbconvert_exporter": "python",
   "pygments_lexer": "ipython3",
   "version": "3.13.2"
  }
 },
 "nbformat": 4,
 "nbformat_minor": 2
}
