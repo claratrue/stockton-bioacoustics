{
 "cells": [
  {
   "cell_type": "code",
   "execution_count": 4,
   "metadata": {},
   "outputs": [
    {
     "name": "stdout",
     "output_type": "stream",
     "text": [
      "Downsampled: 0.961_18_BARR_DAWN_20250224_141600_AM-019_1584.0s_1587.0s.wav -> /Users/clarathomas/Desktop/Black_Phoebe/Downsampled/ds_0.961_18_BARR_DAWN_20250224_141600_AM-019_1584.0s_1587.0s.wav\n",
      "Downsampled: 0.946_12_BARR_DAWN_20250224_141600_AM-019_1974.0s_1977.0s.wav -> /Users/clarathomas/Desktop/Black_Phoebe/Downsampled/ds_0.946_12_BARR_DAWN_20250224_141600_AM-019_1974.0s_1977.0s.wav\n",
      "Downsampled: 0.995_16_BARR_DAWN_20250224_141600_AM-019_1407.0s_1410.0s.wav -> /Users/clarathomas/Desktop/Black_Phoebe/Downsampled/ds_0.995_16_BARR_DAWN_20250224_141600_AM-019_1407.0s_1410.0s.wav\n",
      "Downsampled: 0.939_9_BARR_DAWN_20250224_141600_AM-019_1452.0s_1455.0s.wav -> /Users/clarathomas/Desktop/Black_Phoebe/Downsampled/ds_0.939_9_BARR_DAWN_20250224_141600_AM-019_1452.0s_1455.0s.wav\n",
      "Downsampled: 0.911_15_BARR_DAWN_20250224_141600_AM-019_1419.0s_1422.0s.wav -> /Users/clarathomas/Desktop/Black_Phoebe/Downsampled/ds_0.911_15_BARR_DAWN_20250224_141600_AM-019_1419.0s_1422.0s.wav\n",
      "Downsampled: 0.933_10_BARR_DAWN_20250224_141600_AM-019_1689.0s_1692.0s.wav -> /Users/clarathomas/Desktop/Black_Phoebe/Downsampled/ds_0.933_10_BARR_DAWN_20250224_141600_AM-019_1689.0s_1692.0s.wav\n",
      "Downsampled: 0.994_14_BARR_DAWN_20250224_141600_AM-019_1986.0s_1989.0s.wav -> /Users/clarathomas/Desktop/Black_Phoebe/Downsampled/ds_0.994_14_BARR_DAWN_20250224_141600_AM-019_1986.0s_1989.0s.wav\n",
      "Downsampled: ds_0.911_15_BARR_DAWN_20250224_141600_AM-019_1419.0s_1422.0s.wav -> /Users/clarathomas/Desktop/Black_Phoebe/Downsampled/ds_ds_0.911_15_BARR_DAWN_20250224_141600_AM-019_1419.0s_1422.0s.wav\n",
      "Downsampled: 0.976_17_BARR_DAWN_20250224_141600_AM-019_1560.0s_1563.0s.wav -> /Users/clarathomas/Desktop/Black_Phoebe/Downsampled/ds_0.976_17_BARR_DAWN_20250224_141600_AM-019_1560.0s_1563.0s.wav\n",
      "Downsampled: 0.914_11_BARR_DAWN_20250224_141600_AM-019_1980.0s_1983.0s.wav -> /Users/clarathomas/Desktop/Black_Phoebe/Downsampled/ds_0.914_11_BARR_DAWN_20250224_141600_AM-019_1980.0s_1983.0s.wav\n",
      "Downsampled: 0.966_13_BARR_DAWN_20250224_141600_AM-019_1683.0s_1686.0s.wav -> /Users/clarathomas/Desktop/Black_Phoebe/Downsampled/ds_0.966_13_BARR_DAWN_20250224_141600_AM-019_1683.0s_1686.0s.wav\n"
     ]
    }
   ],
   "source": [
    "import os\n",
    "import librosa\n",
    "import soundfile as sf\n",
    "\n",
    "# Paths\n",
    "input_folder = '/path/to/folder'\n",
    "output_folder = '/path/to/folder'\n",
    "target_sample_rate = 32000\n",
    "\n",
    "# Make sure output folder exists\n",
    "os.makedirs(output_folder, exist_ok=True)\n",
    "\n",
    "# Loop through all WAV files in the input folder\n",
    "for filename in os.listdir(input_folder):\n",
    "    if filename.endswith('.wav'):\n",
    "        input_audio_path = os.path.join(input_folder, filename)\n",
    "        output_audio_path = os.path.join(output_folder, f'ds_{filename}')\n",
    "        \n",
    "        # Load original audio\n",
    "        y, sr = librosa.load(input_audio_path, sr=None)\n",
    "        \n",
    "        # Downsample\n",
    "        y_downsampled = librosa.resample(y=y, orig_sr=sr, target_sr=target_sample_rate)\n",
    "        \n",
    "        # Save to output folder\n",
    "        sf.write(output_audio_path, y_downsampled, target_sample_rate)\n",
    "        \n",
    "        print(f'Downsampled: {filename} -> {output_audio_path}')"
   ]
  }
 ],
 "metadata": {
  "kernelspec": {
   "display_name": "stk_project_venv",
   "language": "python",
   "name": "python3"
  },
  "language_info": {
   "codemirror_mode": {
    "name": "ipython",
    "version": 3
   },
   "file_extension": ".py",
   "mimetype": "text/x-python",
   "name": "python",
   "nbconvert_exporter": "python",
   "pygments_lexer": "ipython3",
   "version": "3.13.2"
  }
 },
 "nbformat": 4,
 "nbformat_minor": 2
}
